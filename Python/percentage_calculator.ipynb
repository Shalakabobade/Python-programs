{
  "nbformat": 4,
  "nbformat_minor": 0,
  "metadata": {
    "colab": {
      "provenance": [],
      "authorship_tag": "ABX9TyOGshg/4iUh7kcKwmYSPJZg",
      "include_colab_link": true
    },
    "kernelspec": {
      "name": "python3",
      "display_name": "Python 3"
    },
    "language_info": {
      "name": "python"
    }
  },
  "cells": [
    {
      "cell_type": "markdown",
      "metadata": {
        "id": "view-in-github",
        "colab_type": "text"
      },
      "source": [
        "<a href=\"https://colab.research.google.com/github/Shalakabobade/Python-programs/blob/main/Python/percentage_calculator.ipynb\" target=\"_parent\"><img src=\"https://colab.research.google.com/assets/colab-badge.svg\" alt=\"Open In Colab\"/></a>"
      ]
    },
    {
      "cell_type": "markdown",
      "source": [
        "## Percentage Calculator\n"
      ],
      "metadata": {
        "id": "0oyrZh73gHrZ"
      }
    },
    {
      "cell_type": "code",
      "source": [
        "a=int(input(\"Enter a number\"))\n",
        "if(a>=70):\n",
        "  print(\"A Grade\")\n",
        "elif (a>65 and a<=70):\n",
        "  print(\"B+ Grade\")\n",
        "elif(a>=60 and a<=65):\n",
        "  print(\"B Grade\")\n",
        "elif(a>=55 and a<=60):\n",
        "    print(\"C Grade\")\n",
        "else:\n",
        "  print(\"FAIL\")\n",
        "\n"
      ],
      "metadata": {
        "colab": {
          "base_uri": "https://localhost:8080/"
        },
        "id": "f-WLqwjvgM9g",
        "outputId": "30de6045-5090-4b60-c5a4-3a2c32843400"
      },
      "execution_count": 14,
      "outputs": [
        {
          "output_type": "stream",
          "name": "stdout",
          "text": [
            "Enter a number90\n",
            "A Grade\n"
          ]
        }
      ]
    }
  ]
}