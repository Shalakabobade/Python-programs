{
  "nbformat": 4,
  "nbformat_minor": 0,
  "metadata": {
    "colab": {
      "provenance": [],
      "authorship_tag": "ABX9TyP+NJom9u0UjUWjEK78YbzT",
      "include_colab_link": true
    },
    "kernelspec": {
      "name": "python3",
      "display_name": "Python 3"
    },
    "language_info": {
      "name": "python"
    }
  },
  "cells": [
    {
      "cell_type": "markdown",
      "metadata": {
        "id": "view-in-github",
        "colab_type": "text"
      },
      "source": [
        "<a href=\"https://colab.research.google.com/github/Shalakabobade/Python-programs/blob/main/Python/pattern.ipynb\" target=\"_parent\"><img src=\"https://colab.research.google.com/assets/colab-badge.svg\" alt=\"Open In Colab\"/></a>"
      ]
    },
    {
      "cell_type": "code",
      "execution_count": 11,
      "metadata": {
        "colab": {
          "base_uri": "https://localhost:8080/"
        },
        "id": "nfYQAqhva58K",
        "outputId": "d519768c-c13e-490f-9ec2-db1e535a6ed2"
      },
      "outputs": [
        {
          "output_type": "stream",
          "name": "stdout",
          "text": [
            "      *\n",
            "* * * * * * * \n",
            "      *\n"
          ]
        }
      ],
      "source": [
        "n=7\n",
        "print(\"      *\")\n",
        "for i in range(1,n+1):\n",
        "  print(\"*\",end=\" \")\n",
        "print()\n",
        "print(\"      *\")"
      ]
    }
  ]
}